{
  "nbformat": 4,
  "nbformat_minor": 0,
  "metadata": {
    "colab": {
      "name": "Data structures.ipynb",
      "provenance": [],
      "authorship_tag": "ABX9TyMTWnYwNu+TAO43eHadWpzh",
      "include_colab_link": true
    },
    "kernelspec": {
      "name": "python3",
      "display_name": "Python 3"
    }
  },
  "cells": [
    {
      "cell_type": "markdown",
      "metadata": {
        "id": "view-in-github",
        "colab_type": "text"
      },
      "source": [
        "<a href=\"https://colab.research.google.com/github/vxvrma/My-first-repository/blob/master/Data_structures.ipynb\" target=\"_parent\"><img src=\"https://colab.research.google.com/assets/colab-badge.svg\" alt=\"Open In Colab\"/></a>"
      ]
    },
    {
      "cell_type": "code",
      "metadata": {
        "id": "s31GJQ1lkpYC",
        "colab_type": "code",
        "colab": {
          "base_uri": "https://localhost:8080/",
          "height": 191
        },
        "outputId": "a483b3ab-8295-4a13-9e14-3df81483acbe"
      },
      "source": [
        "#Lists\n",
        "labgroup_1=[\"Vishnu\", \"Vivek\", \"Yash\", \"Gaurav\"]\n",
        "labgroup_2=['Shabeeb', 'Sai', 'Santhosh', 'Rohit']\n",
        "labgroups=[labgroup_1,labgroup_2]\n",
        "labgroup_3=[]\n",
        "mylist=['Vishnu']*5\n",
        "print(mylist)\n",
        "print('Labgroup 1: {}'.format(labgroup_1))\n",
        "print('Size of Labgroup 1: {}'.format(len(labgroup_1)))\n",
        "print(\"Type of Labgroup 1: {}\".format(type(labgroup_1)))\n",
        "for member in labgroup_1:\n",
        "    print(member)\n",
        "labgroup_3=labgroup_1+['Shabeeb']\n",
        "print(labgroup_3)"
      ],
      "execution_count": 24,
      "outputs": [
        {
          "output_type": "stream",
          "text": [
            "['Vishnu', 'Vishnu', 'Vishnu', 'Vishnu', 'Vishnu']\n",
            "Labgroup 1: ['Vishnu', 'Vivek', 'Yash', 'Gaurav']\n",
            "Size of Labgroup 1: 4\n",
            "Type of Labgroup 1: <class 'list'>\n",
            "Vishnu\n",
            "Vivek\n",
            "Yash\n",
            "Gaurav\n",
            "['Vishnu', 'Vivek', 'Yash', 'Gaurav', 'Shabeeb']\n"
          ],
          "name": "stdout"
        }
      ]
    },
    {
      "cell_type": "code",
      "metadata": {
        "id": "_6LCvEOJlH2O",
        "colab_type": "code",
        "colab": {
          "base_uri": "https://localhost:8080/",
          "height": 122
        },
        "outputId": "237044be-0753-4b85-fa2c-4bc1b6d6cf09"
      },
      "source": [
        "#Tuples\n",
        "lab_group=('Vishnu', 'Vivek', 'Yash', 'Gaurav')\n",
        "print(lab_group)\n",
        "lab_group1=('Vishnu','Vishnu', 'Yash', 'Gaurav')\n",
        "print(lab_group,'\\n',lab_group1)\n",
        "lab_group1=lab_group+lab_group\n",
        "print(lab_group1)\n",
        "#tuple cannot be edited like this\n",
        "#lab_group1=lab_group+('Vishnu')\n",
        "print(lab_group1)"
      ],
      "execution_count": 23,
      "outputs": [
        {
          "output_type": "stream",
          "text": [
            "('Vishnu', 'Vivek', 'Yash', 'Gaurav')\n",
            "('Vishnu', 'Vivek', 'Yash', 'Gaurav') \n",
            " ('Vishnu', 'Vishnu', 'Yash', 'Gaurav')\n",
            "('Vishnu', 'Vivek', 'Yash', 'Gaurav', 'Vishnu', 'Vivek', 'Yash', 'Gaurav')\n",
            "('Vishnu', 'Vivek', 'Yash', 'Gaurav', 'Vishnu', 'Vivek', 'Yash', 'Gaurav')\n"
          ],
          "name": "stdout"
        }
      ]
    },
    {
      "cell_type": "code",
      "metadata": {
        "id": "JODrFzJ2lLHk",
        "colab_type": "code",
        "colab": {
          "base_uri": "https://localhost:8080/",
          "height": 71
        },
        "outputId": "21116a8d-dd0f-4315-a25a-b08fed54a87e"
      },
      "source": [
        "#Dictionary\n",
        "labgroup_1={'Vishnu':18, 'Vivek':19, 'Yash':20, 'Shubham':17}\n",
        "print(labgroup_1)\n",
        "print('Lab group 1: {}'.format(labgroup_1))"
      ],
      "execution_count": 25,
      "outputs": [
        {
          "output_type": "stream",
          "text": [
            "{'Vishnu': 18, 'Vivek': 19, 'Yash': 20, 'Shubham': 17}\n",
            "Lab group 1: {'Vishnu': 18, 'Vivek': 19, 'Yash': 20, 'Shubham': 17}\n"
          ],
          "name": "stdout"
        }
      ]
    }
  ]
}