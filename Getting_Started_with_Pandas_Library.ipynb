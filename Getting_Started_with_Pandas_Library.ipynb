{
  "nbformat": 4,
  "nbformat_minor": 0,
  "metadata": {
    "colab": {
      "name": "Getting Started with Pandas Libraryipynb",
      "provenance": [],
      "collapsed_sections": [],
      "authorship_tag": "ABX9TyNOo2C3s7eTLSVcdxt0Ir9b",
      "include_colab_link": true
    },
    "kernelspec": {
      "name": "python3",
      "display_name": "Python 3"
    }
  },
  "cells": [
    {
      "cell_type": "markdown",
      "metadata": {
        "id": "view-in-github",
        "colab_type": "text"
      },
      "source": [
        "<a href=\"https://colab.research.google.com/github/vxvrma/My-first-repository/blob/master/Getting_Started_with_Pandas_Library.ipynb\" target=\"_parent\"><img src=\"https://colab.research.google.com/assets/colab-badge.svg\" alt=\"Open In Colab\"/></a>"
      ]
    },
    {
      "cell_type": "markdown",
      "metadata": {
        "id": "mfuNf153XQak",
        "colab_type": "text"
      },
      "source": [
        "#Getting Started with [Pandas](https://pandas.pydata.org/) Library \n",
        "\n",
        "![alt text](data:image/png;base64,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)"
      ]
    },
    {
      "cell_type": "markdown",
      "metadata": {
        "id": "qsak-VqfQpu9",
        "colab_type": "text"
      },
      "source": [
        "## The Pandas online cheat sheet\n",
        "\n",
        "Throughout this and all future notebooks, we will refer to the Pandas function cheat sheet as a resource to help us understand the most important functions and how to use them\n",
        "\n",
        "https://pandas.pydata.org/Pandas_Cheat_Sheet.pdf"
      ]
    },
    {
      "cell_type": "markdown",
      "metadata": {
        "id": "V71BPDl3QvB2",
        "colab_type": "text"
      },
      "source": [
        "#Importing Pandas Library into Colab "
      ]
    },
    {
      "cell_type": "code",
      "metadata": {
        "id": "XXc-AkkxVgpj",
        "colab_type": "code",
        "colab": {}
      },
      "source": [
        "import pandas as pd"
      ],
      "execution_count": 1,
      "outputs": []
    },
    {
      "cell_type": "markdown",
      "metadata": {
        "id": "hHnpi4KOLx0V",
        "colab_type": "text"
      },
      "source": [
        "For Google Colab to find the simulation files in the Drive, we need to mount the drive to use the files in this notebook. We can use the os library to open the right folder in the Google drive"
      ]
    },
    {
      "cell_type": "code",
      "metadata": {
        "id": "M80t7QHTXsLR",
        "colab_type": "code",
        "colab": {
          "base_uri": "https://localhost:8080/",
          "height": 122
        },
        "outputId": "e9bf69fe-1e19-4515-ac64-b41daff5bcbd"
      },
      "source": [
        "from google.colab import drive\n",
        "drive.mount('/content/gdrive')\n",
        "import os"
      ],
      "execution_count": 2,
      "outputs": [
        {
          "output_type": "stream",
          "text": [
            "Go to this URL in a browser: https://accounts.google.com/o/oauth2/auth?client_id=947318989803-6bn6qk8qdgf4n4g3pfee6491hc0brc4i.apps.googleusercontent.com&redirect_uri=urn%3aietf%3awg%3aoauth%3a2.0%3aoob&response_type=code&scope=email%20https%3a%2f%2fwww.googleapis.com%2fauth%2fdocs.test%20https%3a%2f%2fwww.googleapis.com%2fauth%2fdrive%20https%3a%2f%2fwww.googleapis.com%2fauth%2fdrive.photos.readonly%20https%3a%2f%2fwww.googleapis.com%2fauth%2fpeopleapi.readonly\n",
            "\n",
            "Enter your authorization code:\n",
            "··········\n",
            "Mounted at /content/gdrive\n"
          ],
          "name": "stdout"
        }
      ]
    },
    {
      "cell_type": "code",
      "metadata": {
        "id": "gAmm4fuKpFZt",
        "colab_type": "code",
        "colab": {}
      },
      "source": [
        "os.chdir(\"/content/gdrive/My Drive/Courses/Edx Data Science for AEC/EDX Data Science for Construction, Architecture and Engineering/2 - Building Design - Intro to Pandas/simulation_data\")"
      ],
      "execution_count": 3,
      "outputs": []
    },
    {
      "cell_type": "markdown",
      "metadata": {
        "id": "D6MOkWLcp_7f",
        "colab_type": "text"
      },
      "source": [
        "We will take a look at all the files in folder using the ls command -- this command is typical of a linux command line and the Colab notebook let's use execute these types of commands in addition to Python"
      ]
    },
    {
      "cell_type": "code",
      "metadata": {
        "id": "Oxq99Jrkp2Uo",
        "colab_type": "code",
        "colab": {
          "base_uri": "https://localhost:8080/",
          "height": 85
        },
        "outputId": "180a2cb0-e63c-435d-af47-17d07f2d230a"
      },
      "source": [
        "ls"
      ],
      "execution_count": 4,
      "outputs": [
        {
          "output_type": "stream",
          "text": [
            " Baseline.csv                      'Scenario - Increase Setpoint.csv'\n",
            " Baseline.gsheet                   'Scenario - Low-E Glass.csv'\n",
            "'Scenario - Aircon Schedules.csv'  'Scenario - Rooftop Gardens.csv'\n",
            "'Scenario - Cool roof.csv'\n"
          ],
          "name": "stdout"
        }
      ]
    },
    {
      "cell_type": "code",
      "metadata": {
        "id": "ZNRxbwgmp8O6",
        "colab_type": "code",
        "colab": {}
      },
      "source": [
        "df = pd.DataFrame(\n",
        "[[4, 7, 10],\n",
        "[5, 8, 11],\n",
        "[6, 9, 12]],\n",
        "index=[1, 2, 3],\n",
        "columns=['a', 'b', 'c'])"
      ],
      "execution_count": 5,
      "outputs": []
    },
    {
      "cell_type": "code",
      "metadata": {
        "id": "bkD7ihdOHdot",
        "colab_type": "code",
        "colab": {
          "base_uri": "https://localhost:8080/",
          "height": 142
        },
        "outputId": "98e9180c-de5c-4fe0-a4d5-51fdeba52e57"
      },
      "source": [
        "df"
      ],
      "execution_count": 6,
      "outputs": [
        {
          "output_type": "execute_result",
          "data": {
            "text/html": [
              "<div>\n",
              "<style scoped>\n",
              "    .dataframe tbody tr th:only-of-type {\n",
              "        vertical-align: middle;\n",
              "    }\n",
              "\n",
              "    .dataframe tbody tr th {\n",
              "        vertical-align: top;\n",
              "    }\n",
              "\n",
              "    .dataframe thead th {\n",
              "        text-align: right;\n",
              "    }\n",
              "</style>\n",
              "<table border=\"1\" class=\"dataframe\">\n",
              "  <thead>\n",
              "    <tr style=\"text-align: right;\">\n",
              "      <th></th>\n",
              "      <th>a</th>\n",
              "      <th>b</th>\n",
              "      <th>c</th>\n",
              "    </tr>\n",
              "  </thead>\n",
              "  <tbody>\n",
              "    <tr>\n",
              "      <th>1</th>\n",
              "      <td>4</td>\n",
              "      <td>7</td>\n",
              "      <td>10</td>\n",
              "    </tr>\n",
              "    <tr>\n",
              "      <th>2</th>\n",
              "      <td>5</td>\n",
              "      <td>8</td>\n",
              "      <td>11</td>\n",
              "    </tr>\n",
              "    <tr>\n",
              "      <th>3</th>\n",
              "      <td>6</td>\n",
              "      <td>9</td>\n",
              "      <td>12</td>\n",
              "    </tr>\n",
              "  </tbody>\n",
              "</table>\n",
              "</div>"
            ],
            "text/plain": [
              "   a  b   c\n",
              "1  4  7  10\n",
              "2  5  8  11\n",
              "3  6  9  12"
            ]
          },
          "metadata": {
            "tags": []
          },
          "execution_count": 6
        }
      ]
    },
    {
      "cell_type": "markdown",
      "metadata": {
        "id": "Vi9ysyZuMxUN",
        "colab_type": "text"
      },
      "source": [
        "#Loading Data from files\n",
        "Instead of creating DataFrames from scratch, we generally load data from various file types - the most common being files with the extension .csv or .xlsx. There are several pandas functions to both read and write data from and to various files.\n",
        "\n",
        "The following is a list of functions in pandas (https://pandas.pydata.org/pandas-docs/stable/user_guide/io.html):\n",
        "\n",
        "![alt text](https://github.com/buds-lab/the-building-data-genome-project/blob/master/docs/edx-graphics/EDX-SimulationImage-8.png?raw=true)\n",
        "\n",
        "First step, let's load the baseline .csv file:"
      ]
    },
    {
      "cell_type": "code",
      "metadata": {
        "id": "TXcXHXPRMDeJ",
        "colab_type": "code",
        "colab": {
          "base_uri": "https://localhost:8080/",
          "height": 421
        },
        "outputId": "66d9486b-122e-4727-c505-dfd3b156c2ad"
      },
      "source": [
        "baseline_data=pd.read_csv(\"Baseline.csv\")\n",
        "baseline_data"
      ],
      "execution_count": 8,
      "outputs": [
        {
          "output_type": "execute_result",
          "data": {
            "text/html": [
              "<div>\n",
              "<style scoped>\n",
              "    .dataframe tbody tr th:only-of-type {\n",
              "        vertical-align: middle;\n",
              "    }\n",
              "\n",
              "    .dataframe tbody tr th {\n",
              "        vertical-align: top;\n",
              "    }\n",
              "\n",
              "    .dataframe thead th {\n",
              "        text-align: right;\n",
              "    }\n",
              "</style>\n",
              "<table border=\"1\" class=\"dataframe\">\n",
              "  <thead>\n",
              "    <tr style=\"text-align: right;\">\n",
              "      <th></th>\n",
              "      <th>Month</th>\n",
              "      <th>Baseline</th>\n",
              "    </tr>\n",
              "  </thead>\n",
              "  <tbody>\n",
              "    <tr>\n",
              "      <th>0</th>\n",
              "      <td>January</td>\n",
              "      <td>5.69</td>\n",
              "    </tr>\n",
              "    <tr>\n",
              "      <th>1</th>\n",
              "      <td>February</td>\n",
              "      <td>6.75</td>\n",
              "    </tr>\n",
              "    <tr>\n",
              "      <th>2</th>\n",
              "      <td>March</td>\n",
              "      <td>10.64</td>\n",
              "    </tr>\n",
              "    <tr>\n",
              "      <th>3</th>\n",
              "      <td>April</td>\n",
              "      <td>13.60</td>\n",
              "    </tr>\n",
              "    <tr>\n",
              "      <th>4</th>\n",
              "      <td>May</td>\n",
              "      <td>19.34</td>\n",
              "    </tr>\n",
              "    <tr>\n",
              "      <th>5</th>\n",
              "      <td>June</td>\n",
              "      <td>22.64</td>\n",
              "    </tr>\n",
              "    <tr>\n",
              "      <th>6</th>\n",
              "      <td>July</td>\n",
              "      <td>27.02</td>\n",
              "    </tr>\n",
              "    <tr>\n",
              "      <th>7</th>\n",
              "      <td>August</td>\n",
              "      <td>27.13</td>\n",
              "    </tr>\n",
              "    <tr>\n",
              "      <th>8</th>\n",
              "      <td>September</td>\n",
              "      <td>25.04</td>\n",
              "    </tr>\n",
              "    <tr>\n",
              "      <th>9</th>\n",
              "      <td>October</td>\n",
              "      <td>18.47</td>\n",
              "    </tr>\n",
              "    <tr>\n",
              "      <th>10</th>\n",
              "      <td>November</td>\n",
              "      <td>13.02</td>\n",
              "    </tr>\n",
              "    <tr>\n",
              "      <th>11</th>\n",
              "      <td>December</td>\n",
              "      <td>7.53</td>\n",
              "    </tr>\n",
              "  </tbody>\n",
              "</table>\n",
              "</div>"
            ],
            "text/plain": [
              "        Month  Baseline\n",
              "0     January      5.69\n",
              "1    February      6.75\n",
              "2       March     10.64\n",
              "3       April     13.60\n",
              "4         May     19.34\n",
              "5        June     22.64\n",
              "6        July     27.02\n",
              "7      August     27.13\n",
              "8   September     25.04\n",
              "9     October     18.47\n",
              "10   November     13.02\n",
              "11   December      7.53"
            ]
          },
          "metadata": {
            "tags": []
          },
          "execution_count": 8
        }
      ]
    },
    {
      "cell_type": "markdown",
      "metadata": {
        "id": "VvEdst_HNqOG",
        "colab_type": "text"
      },
      "source": [
        "#Attribute tuning for .read_csv()\n",
        "Right now, the file has been loaded, but let's make the Month column the index -- to do this we can use the attribute index_col="
      ]
    },
    {
      "cell_type": "code",
      "metadata": {
        "id": "kiqVtSNiNP_R",
        "colab_type": "code",
        "colab": {
          "base_uri": "https://localhost:8080/",
          "height": 452
        },
        "outputId": "cf4f31ba-5d0f-46e2-d07a-13dc56f32cf7"
      },
      "source": [
        "baseline_data = pd.read_csv(\"Baseline.csv\", index_col='Month')\n",
        "baseline_data"
      ],
      "execution_count": 9,
      "outputs": [
        {
          "output_type": "execute_result",
          "data": {
            "text/html": [
              "<div>\n",
              "<style scoped>\n",
              "    .dataframe tbody tr th:only-of-type {\n",
              "        vertical-align: middle;\n",
              "    }\n",
              "\n",
              "    .dataframe tbody tr th {\n",
              "        vertical-align: top;\n",
              "    }\n",
              "\n",
              "    .dataframe thead th {\n",
              "        text-align: right;\n",
              "    }\n",
              "</style>\n",
              "<table border=\"1\" class=\"dataframe\">\n",
              "  <thead>\n",
              "    <tr style=\"text-align: right;\">\n",
              "      <th></th>\n",
              "      <th>Baseline</th>\n",
              "    </tr>\n",
              "    <tr>\n",
              "      <th>Month</th>\n",
              "      <th></th>\n",
              "    </tr>\n",
              "  </thead>\n",
              "  <tbody>\n",
              "    <tr>\n",
              "      <th>January</th>\n",
              "      <td>5.69</td>\n",
              "    </tr>\n",
              "    <tr>\n",
              "      <th>February</th>\n",
              "      <td>6.75</td>\n",
              "    </tr>\n",
              "    <tr>\n",
              "      <th>March</th>\n",
              "      <td>10.64</td>\n",
              "    </tr>\n",
              "    <tr>\n",
              "      <th>April</th>\n",
              "      <td>13.60</td>\n",
              "    </tr>\n",
              "    <tr>\n",
              "      <th>May</th>\n",
              "      <td>19.34</td>\n",
              "    </tr>\n",
              "    <tr>\n",
              "      <th>June</th>\n",
              "      <td>22.64</td>\n",
              "    </tr>\n",
              "    <tr>\n",
              "      <th>July</th>\n",
              "      <td>27.02</td>\n",
              "    </tr>\n",
              "    <tr>\n",
              "      <th>August</th>\n",
              "      <td>27.13</td>\n",
              "    </tr>\n",
              "    <tr>\n",
              "      <th>September</th>\n",
              "      <td>25.04</td>\n",
              "    </tr>\n",
              "    <tr>\n",
              "      <th>October</th>\n",
              "      <td>18.47</td>\n",
              "    </tr>\n",
              "    <tr>\n",
              "      <th>November</th>\n",
              "      <td>13.02</td>\n",
              "    </tr>\n",
              "    <tr>\n",
              "      <th>December</th>\n",
              "      <td>7.53</td>\n",
              "    </tr>\n",
              "  </tbody>\n",
              "</table>\n",
              "</div>"
            ],
            "text/plain": [
              "           Baseline\n",
              "Month              \n",
              "January        5.69\n",
              "February       6.75\n",
              "March         10.64\n",
              "April         13.60\n",
              "May           19.34\n",
              "June          22.64\n",
              "July          27.02\n",
              "August        27.13\n",
              "September     25.04\n",
              "October       18.47\n",
              "November      13.02\n",
              "December       7.53"
            ]
          },
          "metadata": {
            "tags": []
          },
          "execution_count": 9
        }
      ]
    },
    {
      "cell_type": "markdown",
      "metadata": {
        "id": "8D5fT2fAPcaC",
        "colab_type": "text"
      },
      "source": [
        "# DataFrame Objects Overview\n",
        "\n",
        "A DataFrame object is a multi-purpose two dimensional object that has dozens of functions that can be applied to it to see what's inside in different ways.\n",
        "\n",
        "A DataFrame is made up of an `index` and a set of `columns`. \n",
        "\n",
        "The DataFrame object allows us to put data in the **tidy data** format with variables as columns and observations as rows\n"
      ]
    },
    {
      "cell_type": "code",
      "metadata": {
        "id": "9H5teqGePmDm",
        "colab_type": "code",
        "colab": {
          "base_uri": "https://localhost:8080/",
          "height": 68
        },
        "outputId": "5d07d54a-1df2-48ae-9327-6d253df8b428"
      },
      "source": [
        "baseline_data.index"
      ],
      "execution_count": 11,
      "outputs": [
        {
          "output_type": "execute_result",
          "data": {
            "text/plain": [
              "Index(['January', 'February', 'March', 'April', 'May', 'June', 'July',\n",
              "       'August', 'September', 'October', 'November', 'December'],\n",
              "      dtype='object', name='Month')"
            ]
          },
          "metadata": {
            "tags": []
          },
          "execution_count": 11
        }
      ]
    },
    {
      "cell_type": "code",
      "metadata": {
        "id": "439U7apCP2zF",
        "colab_type": "code",
        "colab": {
          "base_uri": "https://localhost:8080/",
          "height": 34
        },
        "outputId": "19505b47-55e3-4079-bbe4-69c97f40680f"
      },
      "source": [
        "baseline_data.columns"
      ],
      "execution_count": 12,
      "outputs": [
        {
          "output_type": "execute_result",
          "data": {
            "text/plain": [
              "Index(['Baseline'], dtype='object')"
            ]
          },
          "metadata": {
            "tags": []
          },
          "execution_count": 12
        }
      ]
    },
    {
      "cell_type": "markdown",
      "metadata": {
        "id": "OJQrLDPZPs8k",
        "colab_type": "text"
      },
      "source": [
        "The .info() object is useful in seeing a DataFrame in way that summarizes the number of columns and the type of data in that column. This view is also useful to understand if there are missing values"
      ]
    },
    {
      "cell_type": "code",
      "metadata": {
        "id": "T7V1w8LIPvWP",
        "colab_type": "code",
        "colab": {
          "base_uri": "https://localhost:8080/",
          "height": 153
        },
        "outputId": "fed1935a-cf6e-4b36-be8d-95510d02e40b"
      },
      "source": [
        "baseline_data.info()"
      ],
      "execution_count": 13,
      "outputs": [
        {
          "output_type": "stream",
          "text": [
            "<class 'pandas.core.frame.DataFrame'>\n",
            "Index: 12 entries, January to December\n",
            "Data columns (total 1 columns):\n",
            " #   Column    Non-Null Count  Dtype  \n",
            "---  ------    --------------  -----  \n",
            " 0   Baseline  12 non-null     float64\n",
            "dtypes: float64(1)\n",
            "memory usage: 192.0+ bytes\n"
          ],
          "name": "stdout"
        }
      ]
    },
    {
      "cell_type": "markdown",
      "metadata": {
        "id": "HB60reEXQSuB",
        "colab_type": "text"
      },
      "source": [
        "## Subset of Variables\n",
        "Each column is a Pandas *Series* object - which we can select using the name of the column inside of brackets. In this case, there is only a single column. \n",
        "\n",
        "There are two ways to select a column within a DataFrame:\n"
      ]
    },
    {
      "cell_type": "code",
      "metadata": {
        "id": "ymKhFoqRQVOn",
        "colab_type": "code",
        "colab": {
          "base_uri": "https://localhost:8080/",
          "height": 255
        },
        "outputId": "e10d423e-cac1-449e-dba3-c1c0b8d968a6"
      },
      "source": [
        "baseline_data['Baseline']"
      ],
      "execution_count": 14,
      "outputs": [
        {
          "output_type": "execute_result",
          "data": {
            "text/plain": [
              "Month\n",
              "January       5.69\n",
              "February      6.75\n",
              "March        10.64\n",
              "April        13.60\n",
              "May          19.34\n",
              "June         22.64\n",
              "July         27.02\n",
              "August       27.13\n",
              "September    25.04\n",
              "October      18.47\n",
              "November     13.02\n",
              "December      7.53\n",
              "Name: Baseline, dtype: float64"
            ]
          },
          "metadata": {
            "tags": []
          },
          "execution_count": 14
        }
      ]
    },
    {
      "cell_type": "code",
      "metadata": {
        "id": "rtRsUvFAQX23",
        "colab_type": "code",
        "colab": {
          "base_uri": "https://localhost:8080/",
          "height": 255
        },
        "outputId": "9bba8408-3048-4ec9-d167-971001bcdb4b"
      },
      "source": [
        "baseline_data.Baseline"
      ],
      "execution_count": 15,
      "outputs": [
        {
          "output_type": "execute_result",
          "data": {
            "text/plain": [
              "Month\n",
              "January       5.69\n",
              "February      6.75\n",
              "March        10.64\n",
              "April        13.60\n",
              "May          19.34\n",
              "June         22.64\n",
              "July         27.02\n",
              "August       27.13\n",
              "September    25.04\n",
              "October      18.47\n",
              "November     13.02\n",
              "December      7.53\n",
              "Name: Baseline, dtype: float64"
            ]
          },
          "metadata": {
            "tags": []
          },
          "execution_count": 15
        }
      ]
    },
    {
      "cell_type": "markdown",
      "metadata": {
        "id": "qsCDwFBLRa3P",
        "colab_type": "text"
      },
      "source": [
        "## Subset of observations\n",
        "\n",
        "We can see only the first or last few lines using `.tail()` and `.head()`"
      ]
    },
    {
      "cell_type": "code",
      "metadata": {
        "id": "ScotYhfrRG44",
        "colab_type": "code",
        "colab": {
          "base_uri": "https://localhost:8080/",
          "height": 235
        },
        "outputId": "61f9b374-4353-4e6c-a432-c9e1d1abcac2"
      },
      "source": [
        "baseline_data.head()"
      ],
      "execution_count": 16,
      "outputs": [
        {
          "output_type": "execute_result",
          "data": {
            "text/html": [
              "<div>\n",
              "<style scoped>\n",
              "    .dataframe tbody tr th:only-of-type {\n",
              "        vertical-align: middle;\n",
              "    }\n",
              "\n",
              "    .dataframe tbody tr th {\n",
              "        vertical-align: top;\n",
              "    }\n",
              "\n",
              "    .dataframe thead th {\n",
              "        text-align: right;\n",
              "    }\n",
              "</style>\n",
              "<table border=\"1\" class=\"dataframe\">\n",
              "  <thead>\n",
              "    <tr style=\"text-align: right;\">\n",
              "      <th></th>\n",
              "      <th>Baseline</th>\n",
              "    </tr>\n",
              "    <tr>\n",
              "      <th>Month</th>\n",
              "      <th></th>\n",
              "    </tr>\n",
              "  </thead>\n",
              "  <tbody>\n",
              "    <tr>\n",
              "      <th>January</th>\n",
              "      <td>5.69</td>\n",
              "    </tr>\n",
              "    <tr>\n",
              "      <th>February</th>\n",
              "      <td>6.75</td>\n",
              "    </tr>\n",
              "    <tr>\n",
              "      <th>March</th>\n",
              "      <td>10.64</td>\n",
              "    </tr>\n",
              "    <tr>\n",
              "      <th>April</th>\n",
              "      <td>13.60</td>\n",
              "    </tr>\n",
              "    <tr>\n",
              "      <th>May</th>\n",
              "      <td>19.34</td>\n",
              "    </tr>\n",
              "  </tbody>\n",
              "</table>\n",
              "</div>"
            ],
            "text/plain": [
              "          Baseline\n",
              "Month             \n",
              "January       5.69\n",
              "February      6.75\n",
              "March        10.64\n",
              "April        13.60\n",
              "May          19.34"
            ]
          },
          "metadata": {
            "tags": []
          },
          "execution_count": 16
        }
      ]
    },
    {
      "cell_type": "code",
      "metadata": {
        "id": "-mTTEBm2RH3-",
        "colab_type": "code",
        "colab": {
          "base_uri": "https://localhost:8080/",
          "height": 235
        },
        "outputId": "161d6580-0869-4788-f9f8-97d5f22433eb"
      },
      "source": [
        "baseline_data.tail()"
      ],
      "execution_count": 17,
      "outputs": [
        {
          "output_type": "execute_result",
          "data": {
            "text/html": [
              "<div>\n",
              "<style scoped>\n",
              "    .dataframe tbody tr th:only-of-type {\n",
              "        vertical-align: middle;\n",
              "    }\n",
              "\n",
              "    .dataframe tbody tr th {\n",
              "        vertical-align: top;\n",
              "    }\n",
              "\n",
              "    .dataframe thead th {\n",
              "        text-align: right;\n",
              "    }\n",
              "</style>\n",
              "<table border=\"1\" class=\"dataframe\">\n",
              "  <thead>\n",
              "    <tr style=\"text-align: right;\">\n",
              "      <th></th>\n",
              "      <th>Baseline</th>\n",
              "    </tr>\n",
              "    <tr>\n",
              "      <th>Month</th>\n",
              "      <th></th>\n",
              "    </tr>\n",
              "  </thead>\n",
              "  <tbody>\n",
              "    <tr>\n",
              "      <th>August</th>\n",
              "      <td>27.13</td>\n",
              "    </tr>\n",
              "    <tr>\n",
              "      <th>September</th>\n",
              "      <td>25.04</td>\n",
              "    </tr>\n",
              "    <tr>\n",
              "      <th>October</th>\n",
              "      <td>18.47</td>\n",
              "    </tr>\n",
              "    <tr>\n",
              "      <th>November</th>\n",
              "      <td>13.02</td>\n",
              "    </tr>\n",
              "    <tr>\n",
              "      <th>December</th>\n",
              "      <td>7.53</td>\n",
              "    </tr>\n",
              "  </tbody>\n",
              "</table>\n",
              "</div>"
            ],
            "text/plain": [
              "           Baseline\n",
              "Month              \n",
              "August        27.13\n",
              "September     25.04\n",
              "October       18.47\n",
              "November      13.02\n",
              "December       7.53"
            ]
          },
          "metadata": {
            "tags": []
          },
          "execution_count": 17
        }
      ]
    },
    {
      "cell_type": "markdown",
      "metadata": {
        "id": "fHrUVCc7RNkG",
        "colab_type": "text"
      },
      "source": [
        "Rows in a DataFrame can be filtered using a conditional statement"
      ]
    },
    {
      "cell_type": "code",
      "metadata": {
        "id": "hIr4PvC7RMlm",
        "colab_type": "code",
        "colab": {
          "base_uri": "https://localhost:8080/",
          "height": 359
        },
        "outputId": "85410d28-14ae-456e-ff9b-e5c0c9d3e5ab"
      },
      "source": [
        "baseline_data[baseline_data['Baseline'] > 10]"
      ],
      "execution_count": 18,
      "outputs": [
        {
          "output_type": "execute_result",
          "data": {
            "text/html": [
              "<div>\n",
              "<style scoped>\n",
              "    .dataframe tbody tr th:only-of-type {\n",
              "        vertical-align: middle;\n",
              "    }\n",
              "\n",
              "    .dataframe tbody tr th {\n",
              "        vertical-align: top;\n",
              "    }\n",
              "\n",
              "    .dataframe thead th {\n",
              "        text-align: right;\n",
              "    }\n",
              "</style>\n",
              "<table border=\"1\" class=\"dataframe\">\n",
              "  <thead>\n",
              "    <tr style=\"text-align: right;\">\n",
              "      <th></th>\n",
              "      <th>Baseline</th>\n",
              "    </tr>\n",
              "    <tr>\n",
              "      <th>Month</th>\n",
              "      <th></th>\n",
              "    </tr>\n",
              "  </thead>\n",
              "  <tbody>\n",
              "    <tr>\n",
              "      <th>March</th>\n",
              "      <td>10.64</td>\n",
              "    </tr>\n",
              "    <tr>\n",
              "      <th>April</th>\n",
              "      <td>13.60</td>\n",
              "    </tr>\n",
              "    <tr>\n",
              "      <th>May</th>\n",
              "      <td>19.34</td>\n",
              "    </tr>\n",
              "    <tr>\n",
              "      <th>June</th>\n",
              "      <td>22.64</td>\n",
              "    </tr>\n",
              "    <tr>\n",
              "      <th>July</th>\n",
              "      <td>27.02</td>\n",
              "    </tr>\n",
              "    <tr>\n",
              "      <th>August</th>\n",
              "      <td>27.13</td>\n",
              "    </tr>\n",
              "    <tr>\n",
              "      <th>September</th>\n",
              "      <td>25.04</td>\n",
              "    </tr>\n",
              "    <tr>\n",
              "      <th>October</th>\n",
              "      <td>18.47</td>\n",
              "    </tr>\n",
              "    <tr>\n",
              "      <th>November</th>\n",
              "      <td>13.02</td>\n",
              "    </tr>\n",
              "  </tbody>\n",
              "</table>\n",
              "</div>"
            ],
            "text/plain": [
              "           Baseline\n",
              "Month              \n",
              "March         10.64\n",
              "April         13.60\n",
              "May           19.34\n",
              "June          22.64\n",
              "July          27.02\n",
              "August        27.13\n",
              "September     25.04\n",
              "October       18.47\n",
              "November      13.02"
            ]
          },
          "metadata": {
            "tags": []
          },
          "execution_count": 18
        }
      ]
    },
    {
      "cell_type": "markdown",
      "metadata": {
        "id": "sM9DyZdyRSGN",
        "colab_type": "text"
      },
      "source": [
        "We can get a random sample of the rows in the DataFrame"
      ]
    },
    {
      "cell_type": "code",
      "metadata": {
        "id": "1xFG7DNYRStH",
        "colab_type": "code",
        "colab": {
          "base_uri": "https://localhost:8080/",
          "height": 266
        },
        "outputId": "2905a631-4928-4d38-94b9-e95478c73d03"
      },
      "source": [
        "baseline_data.sample(frac=0.5)"
      ],
      "execution_count": 19,
      "outputs": [
        {
          "output_type": "execute_result",
          "data": {
            "text/html": [
              "<div>\n",
              "<style scoped>\n",
              "    .dataframe tbody tr th:only-of-type {\n",
              "        vertical-align: middle;\n",
              "    }\n",
              "\n",
              "    .dataframe tbody tr th {\n",
              "        vertical-align: top;\n",
              "    }\n",
              "\n",
              "    .dataframe thead th {\n",
              "        text-align: right;\n",
              "    }\n",
              "</style>\n",
              "<table border=\"1\" class=\"dataframe\">\n",
              "  <thead>\n",
              "    <tr style=\"text-align: right;\">\n",
              "      <th></th>\n",
              "      <th>Baseline</th>\n",
              "    </tr>\n",
              "    <tr>\n",
              "      <th>Month</th>\n",
              "      <th></th>\n",
              "    </tr>\n",
              "  </thead>\n",
              "  <tbody>\n",
              "    <tr>\n",
              "      <th>July</th>\n",
              "      <td>27.02</td>\n",
              "    </tr>\n",
              "    <tr>\n",
              "      <th>May</th>\n",
              "      <td>19.34</td>\n",
              "    </tr>\n",
              "    <tr>\n",
              "      <th>September</th>\n",
              "      <td>25.04</td>\n",
              "    </tr>\n",
              "    <tr>\n",
              "      <th>June</th>\n",
              "      <td>22.64</td>\n",
              "    </tr>\n",
              "    <tr>\n",
              "      <th>March</th>\n",
              "      <td>10.64</td>\n",
              "    </tr>\n",
              "    <tr>\n",
              "      <th>January</th>\n",
              "      <td>5.69</td>\n",
              "    </tr>\n",
              "  </tbody>\n",
              "</table>\n",
              "</div>"
            ],
            "text/plain": [
              "           Baseline\n",
              "Month              \n",
              "July          27.02\n",
              "May           19.34\n",
              "September     25.04\n",
              "June          22.64\n",
              "March         10.64\n",
              "January        5.69"
            ]
          },
          "metadata": {
            "tags": []
          },
          "execution_count": 19
        }
      ]
    },
    {
      "cell_type": "code",
      "metadata": {
        "id": "8hqkRl-TRU_m",
        "colab_type": "code",
        "colab": {
          "base_uri": "https://localhost:8080/",
          "height": 173
        },
        "outputId": "871d71db-c637-4646-a532-ec7d5b88ef91"
      },
      "source": [
        "baseline_data.sample(n=3)"
      ],
      "execution_count": 20,
      "outputs": [
        {
          "output_type": "execute_result",
          "data": {
            "text/html": [
              "<div>\n",
              "<style scoped>\n",
              "    .dataframe tbody tr th:only-of-type {\n",
              "        vertical-align: middle;\n",
              "    }\n",
              "\n",
              "    .dataframe tbody tr th {\n",
              "        vertical-align: top;\n",
              "    }\n",
              "\n",
              "    .dataframe thead th {\n",
              "        text-align: right;\n",
              "    }\n",
              "</style>\n",
              "<table border=\"1\" class=\"dataframe\">\n",
              "  <thead>\n",
              "    <tr style=\"text-align: right;\">\n",
              "      <th></th>\n",
              "      <th>Baseline</th>\n",
              "    </tr>\n",
              "    <tr>\n",
              "      <th>Month</th>\n",
              "      <th></th>\n",
              "    </tr>\n",
              "  </thead>\n",
              "  <tbody>\n",
              "    <tr>\n",
              "      <th>March</th>\n",
              "      <td>10.64</td>\n",
              "    </tr>\n",
              "    <tr>\n",
              "      <th>June</th>\n",
              "      <td>22.64</td>\n",
              "    </tr>\n",
              "    <tr>\n",
              "      <th>February</th>\n",
              "      <td>6.75</td>\n",
              "    </tr>\n",
              "  </tbody>\n",
              "</table>\n",
              "</div>"
            ],
            "text/plain": [
              "          Baseline\n",
              "Month             \n",
              "March        10.64\n",
              "June         22.64\n",
              "February      6.75"
            ]
          },
          "metadata": {
            "tags": []
          },
          "execution_count": 20
        }
      ]
    },
    {
      "cell_type": "markdown",
      "metadata": {
        "id": "RHZUF8RvTlWl",
        "colab_type": "text"
      },
      "source": [
        "### Sorting and Renaming a DataFrame\n",
        "\n",
        "Sometimes we need to sort the observations in a certain column -- there are several functions for this purpose"
      ]
    },
    {
      "cell_type": "code",
      "metadata": {
        "id": "mZiOsEVPToFZ",
        "colab_type": "code",
        "colab": {
          "base_uri": "https://localhost:8080/",
          "height": 452
        },
        "outputId": "d4f08adb-8339-476c-a930-49a28ac66811"
      },
      "source": [
        "baseline_data.sort_values('Baseline')"
      ],
      "execution_count": 21,
      "outputs": [
        {
          "output_type": "execute_result",
          "data": {
            "text/html": [
              "<div>\n",
              "<style scoped>\n",
              "    .dataframe tbody tr th:only-of-type {\n",
              "        vertical-align: middle;\n",
              "    }\n",
              "\n",
              "    .dataframe tbody tr th {\n",
              "        vertical-align: top;\n",
              "    }\n",
              "\n",
              "    .dataframe thead th {\n",
              "        text-align: right;\n",
              "    }\n",
              "</style>\n",
              "<table border=\"1\" class=\"dataframe\">\n",
              "  <thead>\n",
              "    <tr style=\"text-align: right;\">\n",
              "      <th></th>\n",
              "      <th>Baseline</th>\n",
              "    </tr>\n",
              "    <tr>\n",
              "      <th>Month</th>\n",
              "      <th></th>\n",
              "    </tr>\n",
              "  </thead>\n",
              "  <tbody>\n",
              "    <tr>\n",
              "      <th>January</th>\n",
              "      <td>5.69</td>\n",
              "    </tr>\n",
              "    <tr>\n",
              "      <th>February</th>\n",
              "      <td>6.75</td>\n",
              "    </tr>\n",
              "    <tr>\n",
              "      <th>December</th>\n",
              "      <td>7.53</td>\n",
              "    </tr>\n",
              "    <tr>\n",
              "      <th>March</th>\n",
              "      <td>10.64</td>\n",
              "    </tr>\n",
              "    <tr>\n",
              "      <th>November</th>\n",
              "      <td>13.02</td>\n",
              "    </tr>\n",
              "    <tr>\n",
              "      <th>April</th>\n",
              "      <td>13.60</td>\n",
              "    </tr>\n",
              "    <tr>\n",
              "      <th>October</th>\n",
              "      <td>18.47</td>\n",
              "    </tr>\n",
              "    <tr>\n",
              "      <th>May</th>\n",
              "      <td>19.34</td>\n",
              "    </tr>\n",
              "    <tr>\n",
              "      <th>June</th>\n",
              "      <td>22.64</td>\n",
              "    </tr>\n",
              "    <tr>\n",
              "      <th>September</th>\n",
              "      <td>25.04</td>\n",
              "    </tr>\n",
              "    <tr>\n",
              "      <th>July</th>\n",
              "      <td>27.02</td>\n",
              "    </tr>\n",
              "    <tr>\n",
              "      <th>August</th>\n",
              "      <td>27.13</td>\n",
              "    </tr>\n",
              "  </tbody>\n",
              "</table>\n",
              "</div>"
            ],
            "text/plain": [
              "           Baseline\n",
              "Month              \n",
              "January        5.69\n",
              "February       6.75\n",
              "December       7.53\n",
              "March         10.64\n",
              "November      13.02\n",
              "April         13.60\n",
              "October       18.47\n",
              "May           19.34\n",
              "June          22.64\n",
              "September     25.04\n",
              "July          27.02\n",
              "August        27.13"
            ]
          },
          "metadata": {
            "tags": []
          },
          "execution_count": 21
        }
      ]
    },
    {
      "cell_type": "code",
      "metadata": {
        "id": "RvBscvlpTr9r",
        "colab_type": "code",
        "colab": {
          "base_uri": "https://localhost:8080/",
          "height": 452
        },
        "outputId": "1e5b915b-8aff-4ede-a364-16c1fa2c900b"
      },
      "source": [
        "baseline_data.sort_index()"
      ],
      "execution_count": 22,
      "outputs": [
        {
          "output_type": "execute_result",
          "data": {
            "text/html": [
              "<div>\n",
              "<style scoped>\n",
              "    .dataframe tbody tr th:only-of-type {\n",
              "        vertical-align: middle;\n",
              "    }\n",
              "\n",
              "    .dataframe tbody tr th {\n",
              "        vertical-align: top;\n",
              "    }\n",
              "\n",
              "    .dataframe thead th {\n",
              "        text-align: right;\n",
              "    }\n",
              "</style>\n",
              "<table border=\"1\" class=\"dataframe\">\n",
              "  <thead>\n",
              "    <tr style=\"text-align: right;\">\n",
              "      <th></th>\n",
              "      <th>Baseline</th>\n",
              "    </tr>\n",
              "    <tr>\n",
              "      <th>Month</th>\n",
              "      <th></th>\n",
              "    </tr>\n",
              "  </thead>\n",
              "  <tbody>\n",
              "    <tr>\n",
              "      <th>April</th>\n",
              "      <td>13.60</td>\n",
              "    </tr>\n",
              "    <tr>\n",
              "      <th>August</th>\n",
              "      <td>27.13</td>\n",
              "    </tr>\n",
              "    <tr>\n",
              "      <th>December</th>\n",
              "      <td>7.53</td>\n",
              "    </tr>\n",
              "    <tr>\n",
              "      <th>February</th>\n",
              "      <td>6.75</td>\n",
              "    </tr>\n",
              "    <tr>\n",
              "      <th>January</th>\n",
              "      <td>5.69</td>\n",
              "    </tr>\n",
              "    <tr>\n",
              "      <th>July</th>\n",
              "      <td>27.02</td>\n",
              "    </tr>\n",
              "    <tr>\n",
              "      <th>June</th>\n",
              "      <td>22.64</td>\n",
              "    </tr>\n",
              "    <tr>\n",
              "      <th>March</th>\n",
              "      <td>10.64</td>\n",
              "    </tr>\n",
              "    <tr>\n",
              "      <th>May</th>\n",
              "      <td>19.34</td>\n",
              "    </tr>\n",
              "    <tr>\n",
              "      <th>November</th>\n",
              "      <td>13.02</td>\n",
              "    </tr>\n",
              "    <tr>\n",
              "      <th>October</th>\n",
              "      <td>18.47</td>\n",
              "    </tr>\n",
              "    <tr>\n",
              "      <th>September</th>\n",
              "      <td>25.04</td>\n",
              "    </tr>\n",
              "  </tbody>\n",
              "</table>\n",
              "</div>"
            ],
            "text/plain": [
              "           Baseline\n",
              "Month              \n",
              "April         13.60\n",
              "August        27.13\n",
              "December       7.53\n",
              "February       6.75\n",
              "January        5.69\n",
              "July          27.02\n",
              "June          22.64\n",
              "March         10.64\n",
              "May           19.34\n",
              "November      13.02\n",
              "October       18.47\n",
              "September     25.04"
            ]
          },
          "metadata": {
            "tags": []
          },
          "execution_count": 22
        }
      ]
    },
    {
      "cell_type": "code",
      "metadata": {
        "id": "mIm5i-UtTuiN",
        "colab_type": "code",
        "colab": {
          "base_uri": "https://localhost:8080/",
          "height": 452
        },
        "outputId": "492b9616-0253-40c1-e8e8-99d7d3f6d062"
      },
      "source": [
        "baseline_data.rename(columns={'Baseline':'Baseline Cooling Consumption in GWh'})"
      ],
      "execution_count": 23,
      "outputs": [
        {
          "output_type": "execute_result",
          "data": {
            "text/html": [
              "<div>\n",
              "<style scoped>\n",
              "    .dataframe tbody tr th:only-of-type {\n",
              "        vertical-align: middle;\n",
              "    }\n",
              "\n",
              "    .dataframe tbody tr th {\n",
              "        vertical-align: top;\n",
              "    }\n",
              "\n",
              "    .dataframe thead th {\n",
              "        text-align: right;\n",
              "    }\n",
              "</style>\n",
              "<table border=\"1\" class=\"dataframe\">\n",
              "  <thead>\n",
              "    <tr style=\"text-align: right;\">\n",
              "      <th></th>\n",
              "      <th>Baseline Cooling Consumption in GWh</th>\n",
              "    </tr>\n",
              "    <tr>\n",
              "      <th>Month</th>\n",
              "      <th></th>\n",
              "    </tr>\n",
              "  </thead>\n",
              "  <tbody>\n",
              "    <tr>\n",
              "      <th>January</th>\n",
              "      <td>5.69</td>\n",
              "    </tr>\n",
              "    <tr>\n",
              "      <th>February</th>\n",
              "      <td>6.75</td>\n",
              "    </tr>\n",
              "    <tr>\n",
              "      <th>March</th>\n",
              "      <td>10.64</td>\n",
              "    </tr>\n",
              "    <tr>\n",
              "      <th>April</th>\n",
              "      <td>13.60</td>\n",
              "    </tr>\n",
              "    <tr>\n",
              "      <th>May</th>\n",
              "      <td>19.34</td>\n",
              "    </tr>\n",
              "    <tr>\n",
              "      <th>June</th>\n",
              "      <td>22.64</td>\n",
              "    </tr>\n",
              "    <tr>\n",
              "      <th>July</th>\n",
              "      <td>27.02</td>\n",
              "    </tr>\n",
              "    <tr>\n",
              "      <th>August</th>\n",
              "      <td>27.13</td>\n",
              "    </tr>\n",
              "    <tr>\n",
              "      <th>September</th>\n",
              "      <td>25.04</td>\n",
              "    </tr>\n",
              "    <tr>\n",
              "      <th>October</th>\n",
              "      <td>18.47</td>\n",
              "    </tr>\n",
              "    <tr>\n",
              "      <th>November</th>\n",
              "      <td>13.02</td>\n",
              "    </tr>\n",
              "    <tr>\n",
              "      <th>December</th>\n",
              "      <td>7.53</td>\n",
              "    </tr>\n",
              "  </tbody>\n",
              "</table>\n",
              "</div>"
            ],
            "text/plain": [
              "           Baseline Cooling Consumption in GWh\n",
              "Month                                         \n",
              "January                                   5.69\n",
              "February                                  6.75\n",
              "March                                    10.64\n",
              "April                                    13.60\n",
              "May                                      19.34\n",
              "June                                     22.64\n",
              "July                                     27.02\n",
              "August                                   27.13\n",
              "September                                25.04\n",
              "October                                  18.47\n",
              "November                                 13.02\n",
              "December                                  7.53"
            ]
          },
          "metadata": {
            "tags": []
          },
          "execution_count": 23
        }
      ]
    }
  ]
}