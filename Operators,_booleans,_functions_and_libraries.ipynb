{
  "nbformat": 4,
  "nbformat_minor": 0,
  "metadata": {
    "colab": {
      "name": "Operators, booleans, functions and libraries.ipynb",
      "provenance": [],
      "collapsed_sections": [],
      "authorship_tag": "ABX9TyNjqPvCNuXMzDWoOAtopJlP",
      "include_colab_link": true
    },
    "kernelspec": {
      "name": "python3",
      "display_name": "Python 3"
    }
  },
  "cells": [
    {
      "cell_type": "markdown",
      "metadata": {
        "id": "view-in-github",
        "colab_type": "text"
      },
      "source": [
        "<a href=\"https://colab.research.google.com/github/vxvrma/My-first-repository/blob/master/Operators%2C_booleans%2C_functions_and_libraries.ipynb\" target=\"_parent\"><img src=\"https://colab.research.google.com/assets/colab-badge.svg\" alt=\"Open In Colab\"/></a>"
      ]
    },
    {
      "cell_type": "markdown",
      "metadata": {
        "id": "g9RygLhZEJLk",
        "colab_type": "text"
      },
      "source": [
        " #Operators, booleans, functions and libraries"
      ]
    },
    {
      "cell_type": "code",
      "metadata": {
        "id": "eMFb5TpPCffg",
        "colab_type": "code",
        "colab": {
          "base_uri": "https://localhost:8080/",
          "height": 119
        },
        "outputId": "b17c73be-cda2-49a4-f457-ddf0fb78262f"
      },
      "source": [
        "#Operators\n",
        "print(10<9)\n",
        "print(10==9)\n",
        "print(10>=9)\n",
        "print(10!=9)\n",
        "a=10\n",
        "b=10\n",
        "c=a<b\n",
        "print(c)"
      ],
      "execution_count": null,
      "outputs": [
        {
          "output_type": "stream",
          "text": [
            "False\n",
            "False\n",
            "True\n",
            "True\n",
            "False\n",
            "10 = 10\n"
          ],
          "name": "stdout"
        }
      ]
    },
    {
      "cell_type": "code",
      "metadata": {
        "id": "IgHOb9f6He6L",
        "colab_type": "code",
        "colab": {
          "base_uri": "https://localhost:8080/",
          "height": 324
        },
        "outputId": "771ad925-1ca3-4d0c-bc3c-2c39a388864f"
      },
      "source": [
        "#Booleans\n",
        "a=10\n",
        "b=10\n",
        "d=b<a\n",
        "if d:\n",
        "    print(b,'<',a)\n",
        "elif b==a:\n",
        "    print(b,'=',a)\n",
        "else:\n",
        "    print(b,'>',a)\n",
        "for i in range(-2,3):\n",
        "    print(i,i**2)\n",
        " \n",
        "for j in range(10):\n",
        "    if j==0:\n",
        "        continue\n",
        "    if j%3==0:\n",
        "        print (j)\n",
        "    elif j%2==0:\n",
        "        print ('even number indivisible by 3')\n",
        "k=0\n",
        "while k<20:\n",
        "   if k==0:\n",
        "       pass\n",
        "   if k%2==0:\n",
        "       print (k)\n",
        "   k+=3\n",
        "for l in range (-1,2):\n",
        "    if l==1:\n",
        "        break\n",
        "    print (l)"
      ],
      "execution_count": null,
      "outputs": [
        {
          "output_type": "stream",
          "text": [
            "10 = 10\n",
            "-2 4\n",
            "-1 1\n",
            "0 0\n",
            "1 1\n",
            "2 4\n",
            "even number indivisible by 3\n",
            "3\n",
            "even number indivisible by 3\n",
            "6\n",
            "even number indivisible by 3\n",
            "9\n",
            "0\n",
            "6\n",
            "12\n",
            "18\n",
            "-1\n",
            "0\n"
          ],
          "name": "stdout"
        }
      ]
    },
    {
      "cell_type": "code",
      "metadata": {
        "id": "YtR95s4eHj7j",
        "colab_type": "code",
        "colab": {}
      },
      "source": [
        "#Functions"
      ],
      "execution_count": null,
      "outputs": []
    },
    {
      "cell_type": "markdown",
      "metadata": {
        "id": "5nxyMm_pHeLa",
        "colab_type": "text"
      },
      "source": [
        ""
      ]
    }
  ]
}