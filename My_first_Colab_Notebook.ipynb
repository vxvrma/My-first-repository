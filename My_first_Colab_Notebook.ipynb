{
  "nbformat": 4,
  "nbformat_minor": 0,
  "metadata": {
    "colab": {
      "name": "My first Colab Notebook.ipynb",
      "provenance": [],
      "authorship_tag": "ABX9TyPAv5EaJ+oE04MZwPmjkww/",
      "include_colab_link": true
    },
    "kernelspec": {
      "name": "python3",
      "display_name": "Python 3"
    }
  },
  "cells": [
    {
      "cell_type": "markdown",
      "metadata": {
        "id": "view-in-github",
        "colab_type": "text"
      },
      "source": [
        "<a href=\"https://colab.research.google.com/github/vxvrma/My-first-repository/blob/master/My_first_Colab_Notebook.ipynb\" target=\"_parent\"><img src=\"https://colab.research.google.com/assets/colab-badge.svg\" alt=\"Open In Colab\"/></a>"
      ]
    },
    {
      "cell_type": "markdown",
      "metadata": {
        "id": "F_yImY7wxFYC",
        "colab_type": "text"
      },
      "source": [
        "#My first Colab Notebook"
      ]
    },
    {
      "cell_type": "code",
      "metadata": {
        "id": "SoCocT4gywHn",
        "colab_type": "code",
        "colab": {
          "base_uri": "https://localhost:8080/",
          "height": 34
        },
        "outputId": "0b84d085-5e98-43a0-cc0d-9befe6923835"
      },
      "source": [
        "print('Hello World!')"
      ],
      "execution_count": null,
      "outputs": [
        {
          "output_type": "stream",
          "text": [
            "Hello World!\n"
          ],
          "name": "stdout"
        }
      ]
    },
    {
      "cell_type": "markdown",
      "metadata": {
        "id": "EUf_XQ6wxfgz",
        "colab_type": "text"
      },
      "source": [
        "##Introduction\n",
        " \n",
        "My name is Vishnu Nandan. I am a Masters student at VNIT Nagpur. This is my first Colab Notebook."
      ]
    },
    {
      "cell_type": "code",
      "metadata": {
        "id": "xWAsnOKO1SdG",
        "colab_type": "code",
        "colab": {}
      },
      "source": [
        ""
      ],
      "execution_count": null,
      "outputs": []
    },
    {
      "cell_type": "markdown",
      "metadata": {
        "id": "gnd2YexNx_hZ",
        "colab_type": "text"
      },
      "source": [
        "##Purpose\n",
        " \n",
        "The purpose of this notebook is to familiarise with the working environment of Colab."
      ]
    },
    {
      "cell_type": "code",
      "metadata": {
        "id": "F3xOcnjDzZZ4",
        "colab_type": "code",
        "colab": {
          "base_uri": "https://localhost:8080/",
          "height": 34
        },
        "outputId": "336c01b8-1fea-4f28-8fe7-1f0ee5208dd4"
      },
      "source": [
        "print('Thank you!')"
      ],
      "execution_count": null,
      "outputs": [
        {
          "output_type": "stream",
          "text": [
            "Thank you!\n"
          ],
          "name": "stdout"
        }
      ]
    }
  ]
}